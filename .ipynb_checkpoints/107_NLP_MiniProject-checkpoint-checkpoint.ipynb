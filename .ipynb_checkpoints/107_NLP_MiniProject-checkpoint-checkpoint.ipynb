{
 "cells": [
  {
   "cell_type": "code",
   "execution_count": 65,
   "metadata": {},
   "outputs": [],
   "source": [
    "import selenium\n",
    "from selenium import webdriver\n",
    "from selenium.webdriver.common.by import By\n",
    "from selenium.webdriver.common.keys import Keys\n",
    "from selenium.webdriver.chrome.service import Service\n",
    "from webdriver_manager.chrome import ChromeDriverManager\n",
    "from time import sleep\n",
    "import getpass"
   ]
  },
  {
   "cell_type": "code",
   "execution_count": 70,
   "metadata": {},
   "outputs": [],
   "source": [
    "my_user = \"Your Twitter Username\"\n",
    "#my_pass = getpass.getpass()\n",
    "my_pass = \"Your Twitter Password\""
   ]
  },
  {
   "cell_type": "code",
   "execution_count": 67,
   "metadata": {},
   "outputs": [
    {
     "name": "stderr",
     "output_type": "stream",
     "text": [
      "\n",
      "\n",
      "====== WebDriver manager ======\n",
      "Current google-chrome version is 106.0.5249\n",
      "Get LATEST chromedriver version for 106.0.5249 google-chrome\n",
      "Trying to download new driver from https://chromedriver.storage.googleapis.com/106.0.5249.61/chromedriver_win32.zip\n",
      "Driver has been saved in cache [C:\\Users\\lenovo\\.wdm\\drivers\\chromedriver\\win32\\106.0.5249.61]\n"
     ]
    }
   ],
   "source": [
    "s = Service(ChromeDriverManager().install())\n",
    "browser = webdriver.Chrome(service=s)\n",
    "browser.maximize_window()\n",
    "browser.get('https://twitter.com/i/flow/login')\n",
    "sleep(3)"
   ]
  },
  {
   "cell_type": "code",
   "execution_count": 68,
   "metadata": {},
   "outputs": [],
   "source": [
    "user_id = browser.find_element(By.XPATH,\"//input[@type='text']\")\n",
    "user_id.send_keys(my_user)\n",
    "user_id.send_keys(Keys.ENTER)"
   ]
  },
  {
   "cell_type": "code",
   "execution_count": 71,
   "metadata": {},
   "outputs": [],
   "source": [
    "password = browser.find_element(By.XPATH,\"//input[@type='password']\")\n",
    "password.send_keys(my_pass)\n",
    "password.send_keys(Keys.ENTER)"
   ]
  },
  {
   "cell_type": "markdown",
   "metadata": {},
   "source": [
    "# Scrape Tweets mentioning about liz truss"
   ]
  },
  {
   "cell_type": "code",
   "execution_count": 72,
   "metadata": {},
   "outputs": [],
   "source": [
    "search_item = \"Liz Truss\""
   ]
  },
  {
   "cell_type": "code",
   "execution_count": 73,
   "metadata": {},
   "outputs": [],
   "source": [
    "search_box = browser.find_element(By.XPATH,\"//input[@data-testid='SearchBox_Search_Input']\")\n",
    "search_box.send_keys(search_item)\n",
    "search_box.send_keys(Keys.ENTER)"
   ]
  },
  {
   "cell_type": "code",
   "execution_count": 77,
   "metadata": {},
   "outputs": [],
   "source": [
    "all_tweets = set()\n",
    "\n",
    "\n",
    "tweets = browser.find_elements(By.XPATH,\"//div[@data-testid='tweetText']\")\n",
    "while True:\n",
    "    for tweet in tweets:\n",
    "        all_tweets.add(tweet.text)\n",
    "    browser.execute_script('window.scrollTo(0, document.body.scrollHeight);')\n",
    "    sleep(3)\n",
    "    tweets = browser.find_elements(By.XPATH,\"//div[@data-testid='tweetText']\")\n",
    "    if len(all_tweets)>50:\n",
    "        break"
   ]
  },
  {
   "cell_type": "code",
   "execution_count": 78,
   "metadata": {},
   "outputs": [
    {
     "data": {
      "text/plain": [
       "\"Changing the Chancellor doesn't undo the damage made in Downing Street.\\n\\nLiz Truss’ reckless approach has crashed the economy, causing mortgages to skyrocket, and has undermined Britain’s standing on the world stage. 1/2\""
      ]
     },
     "execution_count": 78,
     "metadata": {},
     "output_type": "execute_result"
    }
   ],
   "source": [
    "all_tweets = list(all_tweets)\n",
    "all_tweets[0]"
   ]
  },
  {
   "cell_type": "markdown",
   "metadata": {},
   "source": [
    "# Cleaning Tweets"
   ]
  },
  {
   "cell_type": "code",
   "execution_count": 87,
   "metadata": {},
   "outputs": [
    {
     "name": "stderr",
     "output_type": "stream",
     "text": [
      "[nltk_data] Downloading package punkt to\n",
      "[nltk_data]     C:\\Users\\lenovo\\AppData\\Roaming\\nltk_data...\n",
      "[nltk_data]   Unzipping tokenizers\\punkt.zip.\n",
      "[nltk_data] Downloading package stopwords to\n",
      "[nltk_data]     C:\\Users\\lenovo\\AppData\\Roaming\\nltk_data...\n",
      "[nltk_data]   Unzipping corpora\\stopwords.zip.\n"
     ]
    }
   ],
   "source": [
    "import pandas as pd\n",
    "pd.options.display.max_colwidth = 1000\n",
    "import re\n",
    "import nltk\n",
    "nltk.download('punkt')\n",
    "nltk.download('stopwords')\n",
    "\n",
    "from nltk.corpus import stopwords\n",
    "from nltk.tokenize import word_tokenize"
   ]
  },
  {
   "cell_type": "code",
   "execution_count": 88,
   "metadata": {},
   "outputs": [
    {
     "name": "stdout",
     "output_type": "stream",
     "text": [
      "['i', 'me', 'my', 'myself', 'we', 'our', 'ours', 'ourselves', 'you', \"you're\", \"you've\", \"you'll\", \"you'd\", 'your', 'yours', 'yourself', 'yourselves', 'he', 'him', 'his', 'himself', 'she', \"she's\", 'her', 'hers', 'herself', 'it', \"it's\", 'its', 'itself', 'they', 'them', 'their', 'theirs', 'themselves', 'what', 'which', 'who', 'whom', 'this', 'that', \"that'll\", 'these', 'those', 'am', 'is', 'are', 'was', 'were', 'be', 'been', 'being', 'have', 'has', 'had', 'having', 'do', 'does', 'did', 'doing', 'a', 'an', 'the', 'and', 'but', 'if', 'or', 'because', 'as', 'until', 'while', 'of', 'at', 'by', 'for', 'with', 'about', 'against', 'between', 'into', 'through', 'during', 'before', 'after', 'above', 'below', 'to', 'from', 'up', 'down', 'in', 'out', 'on', 'off', 'over', 'under', 'again', 'further', 'then', 'once', 'here', 'there', 'when', 'where', 'why', 'how', 'all', 'any', 'both', 'each', 'few', 'more', 'most', 'other', 'some', 'such', 'no', 'nor', 'not', 'only', 'own', 'same', 'so', 'than', 'too', 'very', 's', 't', 'can', 'will', 'just', 'don', \"don't\", 'should', \"should've\", 'now', 'd', 'll', 'm', 'o', 're', 've', 'y', 'ain', 'aren', \"aren't\", 'couldn', \"couldn't\", 'didn', \"didn't\", 'doesn', \"doesn't\", 'hadn', \"hadn't\", 'hasn', \"hasn't\", 'haven', \"haven't\", 'isn', \"isn't\", 'ma', 'mightn', \"mightn't\", 'mustn', \"mustn't\", 'needn', \"needn't\", 'shan', \"shan't\", 'shouldn', \"shouldn't\", 'wasn', \"wasn't\", 'weren', \"weren't\", 'won', \"won't\", 'wouldn', \"wouldn't\"]\n"
     ]
    }
   ],
   "source": [
    "stp_words = stopwords.words('english')\n",
    "print(stp_words)"
   ]
  },
  {
   "cell_type": "code",
   "execution_count": 85,
   "metadata": {},
   "outputs": [
    {
     "data": {
      "text/html": [
       "<div>\n",
       "<style scoped>\n",
       "    .dataframe tbody tr th:only-of-type {\n",
       "        vertical-align: middle;\n",
       "    }\n",
       "\n",
       "    .dataframe tbody tr th {\n",
       "        vertical-align: top;\n",
       "    }\n",
       "\n",
       "    .dataframe thead th {\n",
       "        text-align: right;\n",
       "    }\n",
       "</style>\n",
       "<table border=\"1\" class=\"dataframe\">\n",
       "  <thead>\n",
       "    <tr style=\"text-align: right;\">\n",
       "      <th></th>\n",
       "      <th>tweets</th>\n",
       "    </tr>\n",
       "  </thead>\n",
       "  <tbody>\n",
       "    <tr>\n",
       "      <th>0</th>\n",
       "      <td>Changing the Chancellor doesn't undo the damage made in Downing Street.\\n\\nLiz Truss’ reckless approach has crashed the economy, causing mortgages to skyrocket, and has undermined Britain’s standing on the world stage. 1/2</td>\n",
       "    </tr>\n",
       "    <tr>\n",
       "      <th>1</th>\n",
       "      <td>Who else doesn’t believe that it was Liz Truss who chose Jeremy Hunt  Who’s pulling the strings</td>\n",
       "    </tr>\n",
       "    <tr>\n",
       "      <th>2</th>\n",
       "      <td>In the kingdom of the witless, the half-witted man is king. Hence the misguided acclaim for Jeremy Hunt. An awful health secretary, his shameful new role is to keep Liz Truss in office. Democracy and decency are dying by the day.</td>\n",
       "    </tr>\n",
       "    <tr>\n",
       "      <th>3</th>\n",
       "      <td>Verhofstad calls for UK to rejoin EU to escape Liz Truss 'mess' : \\n“Always welcome back”\\nNow wouldn’t that be a great Christmas present  #BrexitBrokeBritain</td>\n",
       "    </tr>\n",
       "    <tr>\n",
       "      <th>4</th>\n",
       "      <td>Liz Truss went missing for days after her mini- budget and she just ran off stage as quickly as possible after her Press Conference. We really cannot have a Prime Minister who’s palpably scared, confused and out of touch. We need a General Election now.</td>\n",
       "    </tr>\n",
       "  </tbody>\n",
       "</table>\n",
       "</div>"
      ],
      "text/plain": [
       "                                                                                                                                                                                                                                                          tweets\n",
       "0                                 Changing the Chancellor doesn't undo the damage made in Downing Street.\\n\\nLiz Truss’ reckless approach has crashed the economy, causing mortgages to skyrocket, and has undermined Britain’s standing on the world stage. 1/2\n",
       "1                                                                                                                                                               Who else doesn’t believe that it was Liz Truss who chose Jeremy Hunt  Who’s pulling the strings \n",
       "2                          In the kingdom of the witless, the half-witted man is king. Hence the misguided acclaim for Jeremy Hunt. An awful health secretary, his shameful new role is to keep Liz Truss in office. Democracy and decency are dying by the day.\n",
       "3                                                                                                 Verhofstad calls for UK to rejoin EU to escape Liz Truss 'mess' : \\n“Always welcome back”\\nNow wouldn’t that be a great Christmas present  #BrexitBrokeBritain\n",
       "4  Liz Truss went missing for days after her mini- budget and she just ran off stage as quickly as possible after her Press Conference. We really cannot have a Prime Minister who’s palpably scared, confused and out of touch. We need a General Election now."
      ]
     },
     "execution_count": 85,
     "metadata": {},
     "output_type": "execute_result"
    }
   ],
   "source": [
    "df = pd.DataFrame(all_tweets,columns = ['tweets'])\n",
    "df.head()"
   ]
  },
  {
   "cell_type": "code",
   "execution_count": 86,
   "metadata": {},
   "outputs": [
    {
     "data": {
      "text/plain": [
       "'Liz Truss went missing for days after her mini- budget and she just ran off stage as quickly as possible after her Press Conference. We really cannot have a Prime Minister who’s palpably scared, confused and out of touch. We need a General Election now.'"
      ]
     },
     "execution_count": 86,
     "metadata": {},
     "output_type": "execute_result"
    }
   ],
   "source": [
    "one_tweet=df.iloc[4]['tweets']\n",
    "one_tweet"
   ]
  },
  {
   "cell_type": "code",
   "execution_count": 107,
   "metadata": {},
   "outputs": [],
   "source": [
    "from textblob import TextBlob\n",
    "from wordcloud import WordCloud\n",
    "\n",
    "def TweetCleaning(tweet):\n",
    "    cleanTweet = re.sub(r\"@[a-zA-Z0-9]+\",\"\",tweet)\n",
    "    cleanTweet = re.sub(r\"#[a-zA-Z0-9\\s]+\",\"\",cleanTweet)\n",
    "    cleanTweet = ' '.join(word for word in cleanTweet.split() if word not in stp_words)\n",
    "    return cleanTweet\n",
    "\n",
    "#Polarity for sentence is negative or positive between -1 to 1\n",
    "def calPolarity(tweet):\n",
    "    return TextBlob(tweet).sentiment.polarity\n",
    "\n",
    "#Subjectivity for personal view or factual view between 1 to -1\n",
    "def calSubjectivity(tweet):\n",
    "    return TextBlob(tweet).sentiment.subjectivity\n",
    "\n",
    "def segmentation(tweet):\n",
    "    if tweet > 0:\n",
    "        return \"positive\"\n",
    "    if tweet == 0:\n",
    "        return \"neutral\"\n",
    "    else:\n",
    "        return \"negative\""
   ]
  },
  {
   "cell_type": "code",
   "execution_count": 108,
   "metadata": {},
   "outputs": [
    {
     "name": "stdout",
     "output_type": "stream",
     "text": [
      "['Liz', 'Truss', 'went', 'missing', 'days', 'mini-', 'budget', 'ran', 'stage', 'quickly', 'possible', 'Press', 'Conference.', 'We', 'really', 'cannot', 'Prime', 'Minister', 'who’s', 'palpably', 'scared,', 'confused', 'touch.', 'We', 'need', 'General', 'Election', 'now.']\n"
     ]
    }
   ],
   "source": [
    "print(cleanTweet.split())"
   ]
  },
  {
   "cell_type": "code",
   "execution_count": 109,
   "metadata": {},
   "outputs": [
    {
     "data": {
      "text/html": [
       "<div>\n",
       "<style scoped>\n",
       "    .dataframe tbody tr th:only-of-type {\n",
       "        vertical-align: middle;\n",
       "    }\n",
       "\n",
       "    .dataframe tbody tr th {\n",
       "        vertical-align: top;\n",
       "    }\n",
       "\n",
       "    .dataframe thead th {\n",
       "        text-align: right;\n",
       "    }\n",
       "</style>\n",
       "<table border=\"1\" class=\"dataframe\">\n",
       "  <thead>\n",
       "    <tr style=\"text-align: right;\">\n",
       "      <th></th>\n",
       "      <th>tweets</th>\n",
       "      <th>cleanedTweets</th>\n",
       "      <th>tPolarity</th>\n",
       "      <th>tSubjectivity</th>\n",
       "      <th>segmentation</th>\n",
       "    </tr>\n",
       "  </thead>\n",
       "  <tbody>\n",
       "    <tr>\n",
       "      <th>0</th>\n",
       "      <td>Changing the Chancellor doesn't undo the damage made in Downing Street.\\n\\nLiz Truss’ reckless approach has crashed the economy, causing mortgages to skyrocket, and has undermined Britain’s standing on the world stage. 1/2</td>\n",
       "      <td>Changing Chancellor undo damage made Downing Street. Liz Truss’ reckless approach crashed economy, causing mortgages skyrocket, undermined Britain’s standing world stage. 1/2</td>\n",
       "      <td>0.000000</td>\n",
       "      <td>0.000000</td>\n",
       "      <td>neutral</td>\n",
       "    </tr>\n",
       "    <tr>\n",
       "      <th>1</th>\n",
       "      <td>Who else doesn’t believe that it was Liz Truss who chose Jeremy Hunt  Who’s pulling the strings</td>\n",
       "      <td>Who else doesn’t believe Liz Truss chose Jeremy Hunt Who’s pulling strings</td>\n",
       "      <td>0.000000</td>\n",
       "      <td>0.000000</td>\n",
       "      <td>neutral</td>\n",
       "    </tr>\n",
       "    <tr>\n",
       "      <th>2</th>\n",
       "      <td>In the kingdom of the witless, the half-witted man is king. Hence the misguided acclaim for Jeremy Hunt. An awful health secretary, his shameful new role is to keep Liz Truss in office. Democracy and decency are dying by the day.</td>\n",
       "      <td>In kingdom witless, half-witted man king. Hence misguided acclaim Jeremy Hunt. An awful health secretary, shameful new role keep Liz Truss office. Democracy decency dying day.</td>\n",
       "      <td>-0.431818</td>\n",
       "      <td>0.727273</td>\n",
       "      <td>negative</td>\n",
       "    </tr>\n",
       "    <tr>\n",
       "      <th>3</th>\n",
       "      <td>Verhofstad calls for UK to rejoin EU to escape Liz Truss 'mess' : \\n“Always welcome back”\\nNow wouldn’t that be a great Christmas present  #BrexitBrokeBritain</td>\n",
       "      <td>Verhofstad calls UK rejoin EU escape Liz Truss 'mess' : “Always welcome back” Now wouldn’t great Christmas present</td>\n",
       "      <td>0.285000</td>\n",
       "      <td>0.365000</td>\n",
       "      <td>positive</td>\n",
       "    </tr>\n",
       "    <tr>\n",
       "      <th>4</th>\n",
       "      <td>Liz Truss went missing for days after her mini- budget and she just ran off stage as quickly as possible after her Press Conference. We really cannot have a Prime Minister who’s palpably scared, confused and out of touch. We need a General Election now.</td>\n",
       "      <td>Liz Truss went missing days mini- budget ran stage quickly possible Press Conference. We really cannot Prime Minister who’s palpably scared, confused touch. We need General Election now.</td>\n",
       "      <td>-0.058333</td>\n",
       "      <td>0.491667</td>\n",
       "      <td>negative</td>\n",
       "    </tr>\n",
       "  </tbody>\n",
       "</table>\n",
       "</div>"
      ],
      "text/plain": [
       "                                                                                                                                                                                                                                                          tweets  \\\n",
       "0                                 Changing the Chancellor doesn't undo the damage made in Downing Street.\\n\\nLiz Truss’ reckless approach has crashed the economy, causing mortgages to skyrocket, and has undermined Britain’s standing on the world stage. 1/2   \n",
       "1                                                                                                                                                               Who else doesn’t believe that it was Liz Truss who chose Jeremy Hunt  Who’s pulling the strings    \n",
       "2                          In the kingdom of the witless, the half-witted man is king. Hence the misguided acclaim for Jeremy Hunt. An awful health secretary, his shameful new role is to keep Liz Truss in office. Democracy and decency are dying by the day.   \n",
       "3                                                                                                 Verhofstad calls for UK to rejoin EU to escape Liz Truss 'mess' : \\n“Always welcome back”\\nNow wouldn’t that be a great Christmas present  #BrexitBrokeBritain   \n",
       "4  Liz Truss went missing for days after her mini- budget and she just ran off stage as quickly as possible after her Press Conference. We really cannot have a Prime Minister who’s palpably scared, confused and out of touch. We need a General Election now.   \n",
       "\n",
       "                                                                                                                                                                                cleanedTweets  \\\n",
       "0              Changing Chancellor undo damage made Downing Street. Liz Truss’ reckless approach crashed economy, causing mortgages skyrocket, undermined Britain’s standing world stage. 1/2   \n",
       "1                                                                                                                  Who else doesn’t believe Liz Truss chose Jeremy Hunt Who’s pulling strings   \n",
       "2             In kingdom witless, half-witted man king. Hence misguided acclaim Jeremy Hunt. An awful health secretary, shameful new role keep Liz Truss office. Democracy decency dying day.   \n",
       "3                                                                          Verhofstad calls UK rejoin EU escape Liz Truss 'mess' : “Always welcome back” Now wouldn’t great Christmas present   \n",
       "4  Liz Truss went missing days mini- budget ran stage quickly possible Press Conference. We really cannot Prime Minister who’s palpably scared, confused touch. We need General Election now.   \n",
       "\n",
       "   tPolarity  tSubjectivity segmentation  \n",
       "0   0.000000       0.000000      neutral  \n",
       "1   0.000000       0.000000      neutral  \n",
       "2  -0.431818       0.727273     negative  \n",
       "3   0.285000       0.365000     positive  \n",
       "4  -0.058333       0.491667     negative  "
      ]
     },
     "execution_count": 109,
     "metadata": {},
     "output_type": "execute_result"
    }
   ],
   "source": [
    "df['cleanedTweets'] = df['tweets'].apply(TweetCleaning)\n",
    "df['tPolarity'] = df['cleanedTweets'].apply(calPolarity)\n",
    "df['tSubjectivity'] = df['cleanedTweets'].apply(calSubjectivity)\n",
    "df['segmentation'] = df['tPolarity'].apply(segmentation)\n",
    "df.head()"
   ]
  },
  {
   "cell_type": "markdown",
   "metadata": {},
   "source": [
    "# Analysis and Visualization"
   ]
  },
  {
   "cell_type": "code",
   "execution_count": 110,
   "metadata": {},
   "outputs": [
    {
     "data": {
      "text/html": [
       "<div>\n",
       "<style scoped>\n",
       "    .dataframe tbody tr th:only-of-type {\n",
       "        vertical-align: middle;\n",
       "    }\n",
       "\n",
       "    .dataframe tbody tr th {\n",
       "        vertical-align: top;\n",
       "    }\n",
       "\n",
       "    .dataframe thead th {\n",
       "        text-align: right;\n",
       "    }\n",
       "</style>\n",
       "<table border=\"1\" class=\"dataframe\">\n",
       "  <thead>\n",
       "    <tr style=\"text-align: right;\">\n",
       "      <th></th>\n",
       "      <th>segmentation</th>\n",
       "    </tr>\n",
       "    <tr>\n",
       "      <th>segmentation</th>\n",
       "      <th></th>\n",
       "    </tr>\n",
       "  </thead>\n",
       "  <tbody>\n",
       "    <tr>\n",
       "      <th>negative</th>\n",
       "      <td>17</td>\n",
       "    </tr>\n",
       "    <tr>\n",
       "      <th>neutral</th>\n",
       "      <td>14</td>\n",
       "    </tr>\n",
       "    <tr>\n",
       "      <th>positive</th>\n",
       "      <td>24</td>\n",
       "    </tr>\n",
       "  </tbody>\n",
       "</table>\n",
       "</div>"
      ],
      "text/plain": [
       "              segmentation\n",
       "segmentation              \n",
       "negative                17\n",
       "neutral                 14\n",
       "positive                24"
      ]
     },
     "execution_count": 110,
     "metadata": {},
     "output_type": "execute_result"
    }
   ],
   "source": [
    "df.pivot_table(index=['segmentation'],aggfunc={'segmentation':'count'})"
   ]
  },
  {
   "cell_type": "code",
   "execution_count": 111,
   "metadata": {},
   "outputs": [
    {
     "data": {
      "text/html": [
       "<div>\n",
       "<style scoped>\n",
       "    .dataframe tbody tr th:only-of-type {\n",
       "        vertical-align: middle;\n",
       "    }\n",
       "\n",
       "    .dataframe tbody tr th {\n",
       "        vertical-align: top;\n",
       "    }\n",
       "\n",
       "    .dataframe thead th {\n",
       "        text-align: right;\n",
       "    }\n",
       "</style>\n",
       "<table border=\"1\" class=\"dataframe\">\n",
       "  <thead>\n",
       "    <tr style=\"text-align: right;\">\n",
       "      <th></th>\n",
       "      <th>tweets</th>\n",
       "      <th>cleanedTweets</th>\n",
       "      <th>tPolarity</th>\n",
       "      <th>tSubjectivity</th>\n",
       "      <th>segmentation</th>\n",
       "    </tr>\n",
       "  </thead>\n",
       "  <tbody>\n",
       "    <tr>\n",
       "      <th>11</th>\n",
       "      <td>The best thing Liz Truss could do for economic stability now is resign. Her decisions have crashed the economy and heaped misery on people already struggling with a cost of living crisis. \\nThe onlydecent thing for Tory MPs to do now is call time on her govt and allow an election</td>\n",
       "      <td>The best thing Liz Truss could economic stability resign. Her decisions crashed economy heaped misery people already struggling cost living crisis. The onlydecent thing Tory MPs call time govt allow election</td>\n",
       "      <td>0.600000</td>\n",
       "      <td>0.250000</td>\n",
       "      <td>positive</td>\n",
       "    </tr>\n",
       "    <tr>\n",
       "      <th>47</th>\n",
       "      <td>Strong words  \\n@Keir_Starmer\\n \"The PM must come to Parliament on Monday, to explain what she plans to do to turn the situation around. If she won’t take questions from journalists, Liz Truss must take them from MPs representing the families whose livelihoods she’s putting at risk\"</td>\n",
       "      <td>Strong words _Starmer \"The PM must come Parliament Monday, explain plans turn situation around. If won’t take questions journalists, Liz Truss must take MPs representing families whose livelihoods she’s putting risk\"</td>\n",
       "      <td>0.433333</td>\n",
       "      <td>0.733333</td>\n",
       "      <td>positive</td>\n",
       "    </tr>\n",
       "    <tr>\n",
       "      <th>52</th>\n",
       "      <td>As Liz Truss sacks Kwasi Kwarteng for implementing her own economic policies, millions of people are still waiting for a plan to tackle the cost-of-living emergency. \\n\\nIt doesn't matter how many Chancellors they get through, this Tory government is rotten to its very core.</td>\n",
       "      <td>As Liz Truss sacks Kwasi Kwarteng implementing economic policies, millions people still waiting plan tackle cost-of-living emergency. It matter many Chancellors get through, Tory government rotten core.</td>\n",
       "      <td>0.350000</td>\n",
       "      <td>0.350000</td>\n",
       "      <td>positive</td>\n",
       "    </tr>\n",
       "  </tbody>\n",
       "</table>\n",
       "</div>"
      ],
      "text/plain": [
       "                                                                                                                                                                                                                                                                                         tweets  \\\n",
       "11     The best thing Liz Truss could do for economic stability now is resign. Her decisions have crashed the economy and heaped misery on people already struggling with a cost of living crisis. \\nThe onlydecent thing for Tory MPs to do now is call time on her govt and allow an election   \n",
       "47  Strong words  \\n@Keir_Starmer\\n \"The PM must come to Parliament on Monday, to explain what she plans to do to turn the situation around. If she won’t take questions from journalists, Liz Truss must take them from MPs representing the families whose livelihoods she’s putting at risk\"   \n",
       "52          As Liz Truss sacks Kwasi Kwarteng for implementing her own economic policies, millions of people are still waiting for a plan to tackle the cost-of-living emergency. \\n\\nIt doesn't matter how many Chancellors they get through, this Tory government is rotten to its very core.   \n",
       "\n",
       "                                                                                                                                                                                                               cleanedTweets  \\\n",
       "11           The best thing Liz Truss could economic stability resign. Her decisions crashed economy heaped misery people already struggling cost living crisis. The onlydecent thing Tory MPs call time govt allow election   \n",
       "47  Strong words _Starmer \"The PM must come Parliament Monday, explain plans turn situation around. If won’t take questions journalists, Liz Truss must take MPs representing families whose livelihoods she’s putting risk\"   \n",
       "52                As Liz Truss sacks Kwasi Kwarteng implementing economic policies, millions people still waiting plan tackle cost-of-living emergency. It matter many Chancellors get through, Tory government rotten core.   \n",
       "\n",
       "    tPolarity  tSubjectivity segmentation  \n",
       "11   0.600000       0.250000     positive  \n",
       "47   0.433333       0.733333     positive  \n",
       "52   0.350000       0.350000     positive  "
      ]
     },
     "execution_count": 111,
     "metadata": {},
     "output_type": "execute_result"
    }
   ],
   "source": [
    "# top 3 most positive\n",
    "df.sort_values(by=['tPolarity'],ascending=False).head(3)"
   ]
  },
  {
   "cell_type": "code",
   "execution_count": 112,
   "metadata": {},
   "outputs": [
    {
     "data": {
      "text/html": [
       "<div>\n",
       "<style scoped>\n",
       "    .dataframe tbody tr th:only-of-type {\n",
       "        vertical-align: middle;\n",
       "    }\n",
       "\n",
       "    .dataframe tbody tr th {\n",
       "        vertical-align: top;\n",
       "    }\n",
       "\n",
       "    .dataframe thead th {\n",
       "        text-align: right;\n",
       "    }\n",
       "</style>\n",
       "<table border=\"1\" class=\"dataframe\">\n",
       "  <thead>\n",
       "    <tr style=\"text-align: right;\">\n",
       "      <th></th>\n",
       "      <th>tweets</th>\n",
       "      <th>cleanedTweets</th>\n",
       "      <th>tPolarity</th>\n",
       "      <th>tSubjectivity</th>\n",
       "      <th>segmentation</th>\n",
       "    </tr>\n",
       "  </thead>\n",
       "  <tbody>\n",
       "    <tr>\n",
       "      <th>10</th>\n",
       "      <td>I feel sorry for Liz Truss she has done a terrible job sold us all into poverty and she is a multimillionaire and will never ever suffer for what she has done.\\n\\nOh wait no I don’t and neither should you.\\n\\nSympathy for the devil and all that.</td>\n",
       "      <td>I feel sorry Liz Truss done terrible job sold us poverty multimillionaire never ever suffer done. Oh wait I don’t neither you. Sympathy devil that.</td>\n",
       "      <td>-0.75</td>\n",
       "      <td>1.000000</td>\n",
       "      <td>negative</td>\n",
       "    </tr>\n",
       "    <tr>\n",
       "      <th>39</th>\n",
       "      <td>Joe Biden casually laying into the tatters of Liz Truss career with ice cream in hand</td>\n",
       "      <td>Joe Biden casually laying tatters Liz Truss career ice cream hand</td>\n",
       "      <td>-0.50</td>\n",
       "      <td>0.866667</td>\n",
       "      <td>negative</td>\n",
       "    </tr>\n",
       "    <tr>\n",
       "      <th>19</th>\n",
       "      <td>Liz Truss firing Kwasi Kwarteng is like a ventriloquist firing the dummy for saying the wrong thing.</td>\n",
       "      <td>Liz Truss firing Kwasi Kwarteng like ventriloquist firing dummy saying wrong thing.</td>\n",
       "      <td>-0.50</td>\n",
       "      <td>0.900000</td>\n",
       "      <td>negative</td>\n",
       "    </tr>\n",
       "  </tbody>\n",
       "</table>\n",
       "</div>"
      ],
      "text/plain": [
       "                                                                                                                                                                                                                                                   tweets  \\\n",
       "10  I feel sorry for Liz Truss she has done a terrible job sold us all into poverty and she is a multimillionaire and will never ever suffer for what she has done.\\n\\nOh wait no I don’t and neither should you.\\n\\nSympathy for the devil and all that.   \n",
       "39                                                                                                                                                                 Joe Biden casually laying into the tatters of Liz Truss career with ice cream in hand    \n",
       "19                                                                                                                                                   Liz Truss firing Kwasi Kwarteng is like a ventriloquist firing the dummy for saying the wrong thing.   \n",
       "\n",
       "                                                                                                                                          cleanedTweets  \\\n",
       "10  I feel sorry Liz Truss done terrible job sold us poverty multimillionaire never ever suffer done. Oh wait I don’t neither you. Sympathy devil that.   \n",
       "39                                                                                    Joe Biden casually laying tatters Liz Truss career ice cream hand   \n",
       "19                                                                  Liz Truss firing Kwasi Kwarteng like ventriloquist firing dummy saying wrong thing.   \n",
       "\n",
       "    tPolarity  tSubjectivity segmentation  \n",
       "10      -0.75       1.000000     negative  \n",
       "39      -0.50       0.866667     negative  \n",
       "19      -0.50       0.900000     negative  "
      ]
     },
     "execution_count": 112,
     "metadata": {},
     "output_type": "execute_result"
    }
   ],
   "source": [
    "# top 3 most negative\n",
    "df.sort_values(by=['tPolarity'],ascending=True).head(3)"
   ]
  },
  {
   "cell_type": "code",
   "execution_count": 114,
   "metadata": {},
   "outputs": [
    {
     "data": {
      "text/html": [
       "<div>\n",
       "<style scoped>\n",
       "    .dataframe tbody tr th:only-of-type {\n",
       "        vertical-align: middle;\n",
       "    }\n",
       "\n",
       "    .dataframe tbody tr th {\n",
       "        vertical-align: top;\n",
       "    }\n",
       "\n",
       "    .dataframe thead th {\n",
       "        text-align: right;\n",
       "    }\n",
       "</style>\n",
       "<table border=\"1\" class=\"dataframe\">\n",
       "  <thead>\n",
       "    <tr style=\"text-align: right;\">\n",
       "      <th></th>\n",
       "      <th>tweets</th>\n",
       "      <th>cleanedTweets</th>\n",
       "      <th>tPolarity</th>\n",
       "      <th>tSubjectivity</th>\n",
       "      <th>segmentation</th>\n",
       "    </tr>\n",
       "  </thead>\n",
       "  <tbody>\n",
       "    <tr>\n",
       "      <th>0</th>\n",
       "      <td>Changing the Chancellor doesn't undo the damage made in Downing Street.\\n\\nLiz Truss’ reckless approach has crashed the economy, causing mortgages to skyrocket, and has undermined Britain’s standing on the world stage. 1/2</td>\n",
       "      <td>Changing Chancellor undo damage made Downing Street. Liz Truss’ reckless approach crashed economy, causing mortgages skyrocket, undermined Britain’s standing world stage. 1/2</td>\n",
       "      <td>0.0</td>\n",
       "      <td>0.000000</td>\n",
       "      <td>neutral</td>\n",
       "    </tr>\n",
       "    <tr>\n",
       "      <th>1</th>\n",
       "      <td>Who else doesn’t believe that it was Liz Truss who chose Jeremy Hunt  Who’s pulling the strings</td>\n",
       "      <td>Who else doesn’t believe Liz Truss chose Jeremy Hunt Who’s pulling strings</td>\n",
       "      <td>0.0</td>\n",
       "      <td>0.000000</td>\n",
       "      <td>neutral</td>\n",
       "    </tr>\n",
       "    <tr>\n",
       "      <th>5</th>\n",
       "      <td>To Liz Truss and The Tories on behalf of the British Public</td>\n",
       "      <td>To Liz Truss The Tories behalf British Public</td>\n",
       "      <td>0.0</td>\n",
       "      <td>0.033333</td>\n",
       "      <td>neutral</td>\n",
       "    </tr>\n",
       "  </tbody>\n",
       "</table>\n",
       "</div>"
      ],
      "text/plain": [
       "                                                                                                                                                                                                                           tweets  \\\n",
       "0  Changing the Chancellor doesn't undo the damage made in Downing Street.\\n\\nLiz Truss’ reckless approach has crashed the economy, causing mortgages to skyrocket, and has undermined Britain’s standing on the world stage. 1/2   \n",
       "1                                                                                                                                Who else doesn’t believe that it was Liz Truss who chose Jeremy Hunt  Who’s pulling the strings    \n",
       "5                                                                                                                                                                     To Liz Truss and The Tories on behalf of the British Public   \n",
       "\n",
       "                                                                                                                                                                    cleanedTweets  \\\n",
       "0  Changing Chancellor undo damage made Downing Street. Liz Truss’ reckless approach crashed economy, causing mortgages skyrocket, undermined Britain’s standing world stage. 1/2   \n",
       "1                                                                                                      Who else doesn’t believe Liz Truss chose Jeremy Hunt Who’s pulling strings   \n",
       "5                                                                                                                                   To Liz Truss The Tories behalf British Public   \n",
       "\n",
       "   tPolarity  tSubjectivity segmentation  \n",
       "0        0.0       0.000000      neutral  \n",
       "1        0.0       0.000000      neutral  \n",
       "5        0.0       0.033333      neutral  "
      ]
     },
     "execution_count": 114,
     "metadata": {},
     "output_type": "execute_result"
    }
   ],
   "source": [
    "# 3 neutral\n",
    "df[df.tPolarity==0].head(3)"
   ]
  },
  {
   "cell_type": "code",
   "execution_count": 115,
   "metadata": {},
   "outputs": [
    {
     "data": {
      "image/png": "[encoded data removed]",
      "text/plain": [
       "<Figure size 432x288 with 1 Axes>"
      ]
     },
     "metadata": {
      "needs_background": "light"
     },
     "output_type": "display_data"
    }
   ],
   "source": [
    "import matplotlib.pyplot as plt\n",
    "\n",
    "consolidated = ' '.join(word for word in df['cleanedTweets'])\n",
    "\n",
    "wordCloud = WordCloud(width=400, height=200, random_state=20, max_font_size=119).generate(consolidated)\n",
    "\n",
    "plt.imshow(wordCloud, interpolation='bilinear')\n",
    "plt.axis('off')\n",
    "plt.show()"
   ]
  },
  {
   "cell_type": "code",
   "execution_count": 116,
   "metadata": {},
   "outputs": [],
   "source": [
    "import seaborn as sns"
   ]
  },
  {
   "cell_type": "code",
   "execution_count": 117,
   "metadata": {},
   "outputs": [
    {
     "data": {
      "text/html": [
       "<div>\n",
       "<style scoped>\n",
       "    .dataframe tbody tr th:only-of-type {\n",
       "        vertical-align: middle;\n",
       "    }\n",
       "\n",
       "    .dataframe tbody tr th {\n",
       "        vertical-align: top;\n",
       "    }\n",
       "\n",
       "    .dataframe thead th {\n",
       "        text-align: right;\n",
       "    }\n",
       "</style>\n",
       "<table border=\"1\" class=\"dataframe\">\n",
       "  <thead>\n",
       "    <tr style=\"text-align: right;\">\n",
       "      <th></th>\n",
       "      <th>tweets</th>\n",
       "      <th>cleanedTweets</th>\n",
       "      <th>tPolarity</th>\n",
       "      <th>tSubjectivity</th>\n",
       "    </tr>\n",
       "    <tr>\n",
       "      <th>segmentation</th>\n",
       "      <th></th>\n",
       "      <th></th>\n",
       "      <th></th>\n",
       "      <th></th>\n",
       "    </tr>\n",
       "  </thead>\n",
       "  <tbody>\n",
       "    <tr>\n",
       "      <th>negative</th>\n",
       "      <td>17</td>\n",
       "      <td>17</td>\n",
       "      <td>17</td>\n",
       "      <td>17</td>\n",
       "    </tr>\n",
       "    <tr>\n",
       "      <th>neutral</th>\n",
       "      <td>14</td>\n",
       "      <td>14</td>\n",
       "      <td>14</td>\n",
       "      <td>14</td>\n",
       "    </tr>\n",
       "    <tr>\n",
       "      <th>positive</th>\n",
       "      <td>24</td>\n",
       "      <td>24</td>\n",
       "      <td>24</td>\n",
       "      <td>24</td>\n",
       "    </tr>\n",
       "  </tbody>\n",
       "</table>\n",
       "</div>"
      ],
      "text/plain": [
       "              tweets  cleanedTweets  tPolarity  tSubjectivity\n",
       "segmentation                                                 \n",
       "negative          17             17         17             17\n",
       "neutral           14             14         14             14\n",
       "positive          24             24         24             24"
      ]
     },
     "execution_count": 117,
     "metadata": {},
     "output_type": "execute_result"
    }
   ],
   "source": [
    "df.groupby('segmentation').count()"
   ]
  },
  {
   "cell_type": "code",
   "execution_count": 118,
   "metadata": {},
   "outputs": [
    {
     "data": {
      "text/plain": [
       "<AxesSubplot: xlabel='tPolarity', ylabel='tSubjectivity'>"
      ]
     },
     "execution_count": 118,
     "metadata": {},
     "output_type": "execute_result"
    },
    {
     "data": {
      "image/png": "[encoded data removed]",
      "text/plain": [
       "<Figure size 720x360 with 1 Axes>"
      ]
     },
     "metadata": {
      "needs_background": "light"
     },
     "output_type": "display_data"
    }
   ],
   "source": [
    "plt.figure(figsize=(10,5))\n",
    "sns.set_style(\"whitegrid\")\n",
    "sns.scatterplot(data=df, x='tPolarity',y='tSubjectivity',s=100,hue='segmentation')"
   ]
  },
  {
   "cell_type": "code",
   "execution_count": 119,
   "metadata": {},
   "outputs": [
    {
     "data": {
      "text/plain": [
       "<AxesSubplot: xlabel='segmentation', ylabel='count'>"
      ]
     },
     "execution_count": 119,
     "metadata": {},
     "output_type": "execute_result"
    },
    {
     "data": {
      "image/png": "[encoded data removed]",
      "text/plain": [
       "<Figure size 432x288 with 1 Axes>"
      ]
     },
     "metadata": {},
     "output_type": "display_data"
    }
   ],
   "source": [
    "sns.countplot(data=df,x='segmentation')"
   ]
  },
  {
   "cell_type": "code",
   "execution_count": 120,
   "metadata": {},
   "outputs": [
    {
     "data": {
      "text/html": [
       "<div>\n",
       "<style scoped>\n",
       "    .dataframe tbody tr th:only-of-type {\n",
       "        vertical-align: middle;\n",
       "    }\n",
       "\n",
       "    .dataframe tbody tr th {\n",
       "        vertical-align: top;\n",
       "    }\n",
       "\n",
       "    .dataframe thead th {\n",
       "        text-align: right;\n",
       "    }\n",
       "</style>\n",
       "<table border=\"1\" class=\"dataframe\">\n",
       "  <thead>\n",
       "    <tr style=\"text-align: right;\">\n",
       "      <th></th>\n",
       "      <th>resp</th>\n",
       "      <th>pct</th>\n",
       "    </tr>\n",
       "  </thead>\n",
       "  <tbody>\n",
       "    <tr>\n",
       "      <th>0</th>\n",
       "      <td>mayWin</td>\n",
       "      <td>43.6</td>\n",
       "    </tr>\n",
       "    <tr>\n",
       "      <th>1</th>\n",
       "      <td>mayLoose</td>\n",
       "      <td>30.9</td>\n",
       "    </tr>\n",
       "    <tr>\n",
       "      <th>2</th>\n",
       "      <td>notSure</td>\n",
       "      <td>25.5</td>\n",
       "    </tr>\n",
       "  </tbody>\n",
       "</table>\n",
       "</div>"
      ],
      "text/plain": [
       "       resp   pct\n",
       "0    mayWin  43.6\n",
       "1  mayLoose  30.9\n",
       "2   notSure  25.5"
      ]
     },
     "execution_count": 120,
     "metadata": {},
     "output_type": "execute_result"
    }
   ],
   "source": [
    "positive = round(len(df[df.segmentation == 'positive'])/len(df)*100,1)\n",
    "negative = round(len(df[df.segmentation == 'negative'])/len(df)*100,1)\n",
    "neutral = round(len(df[df.segmentation == 'neutral'])/len(df)*100,1)\n",
    "\n",
    "responses = [positive, negative, neutral]\n",
    "responses\n",
    "\n",
    "response = {'resp': ['mayWin', 'mayLoose', 'notSure'], 'pct':[positive, negative, neutral]}\n",
    "pd.DataFrame(response)"
   ]
  },
  {
   "cell_type": "code",
   "execution_count": null,
   "metadata": {},
   "outputs": [],
   "source": []
  }
 ],
 "metadata": {
  "kernelspec": {
   "display_name": "Python 3",
   "language": "python",
   "name": "python3"
  },
  "language_info": {
   "codemirror_mode": {
    "name": "ipython",
    "version": 3
   },
   "file_extension": ".py",
   "mimetype": "text/x-python",
   "name": "python",
   "nbconvert_exporter": "python",
   "pygments_lexer": "ipython3",
   "version": "3.8.5"
  }
 },
 "nbformat": 4,
 "nbformat_minor": 4
}
